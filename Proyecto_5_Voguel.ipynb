{
 "cells": [
  {
   "cell_type": "markdown",
   "metadata": {},
   "source": [
    "### 5. Método Voguel"
   ]
  },
  {
   "cell_type": "code",
   "execution_count": 1,
   "metadata": {},
   "outputs": [
    {
     "name": "stdout",
     "output_type": "stream",
     "text": [
      "la solución optima es  2850\n"
     ]
    }
   ],
   "source": [
    "recuadro = [[3, 1, 7, 4], [2, 6, 5, 9], [8, 3, 3, 2]]  # Tabla\n",
    "oferta = [300, 400, 500]  # oferta\n",
    "demanda = [250, 350, 400, 200]  # demanda\n",
    "INF = 10**3\n",
    "n = len(recuadro)\n",
    "m = len(recuadro[0])\n",
    "ans = 0\n",
    " \n",
    "# permite encontrar la diferencia entre columnas y filas\n",
    "def findDiff(recuadro):\n",
    "    rowDiff = []\n",
    "    colDiff = []\n",
    "    for i in range(len(recuadro)):\n",
    "        arr = recuadro[i][:]\n",
    "        arr.sort()\n",
    "        rowDiff.append(arr[1]-arr[0])\n",
    "    col = 0\n",
    "    while col < len(recuadro[0]):\n",
    "        arr = []\n",
    "        for i in range(len(recuadro)):\n",
    "            arr.append(recuadro[i][col])\n",
    "        arr.sort()\n",
    "        col += 1\n",
    "        colDiff.append(arr[1]-arr[0])\n",
    "    return rowDiff, colDiff\n",
    " \n",
    " \n",
    "# loop corre hasta que la demanada y la oferta se agoten\n",
    "while max(oferta) != 0 or max(demanda) != 0:\n",
    "    # Encontrando la diferencia entre columnas y filas\n",
    "    row, col = findDiff(recuadro)\n",
    "    # Encontrando el valor máximo en la fila de diferencia\n",
    "    maxi1 = max(row)\n",
    "    # Encontrando el valor máximo en la arreglo de columna de diferencias\n",
    "    maxi2 = max(col)\n",
    " \n",
    "    # si el valor de la fila de diferencias máximas es mayor o igual que el valor máximo de la col de diferencias\n",
    "    if(maxi1 >= maxi2):\n",
    "        for ind, val in enumerate(row):\n",
    "            if(val == maxi1):\n",
    "                # Encontrando el elemento mínimo en el índice del recuadro donde el máximo fue encontrado en la deferencia de filas\n",
    "                mini1 = min(recuadro[ind])\n",
    "                for ind2, val2 in enumerate(recuadro[ind]):\n",
    "                    if(val2 == mini1):\n",
    "                        # Calculamos el mínimo de la oferta en dicha fila y columna\n",
    "                        mini2 = min(oferta[ind], demanda[ind2])\n",
    "                        ans += mini2 * mini1\n",
    "                        # extrayendo el mínimo de la oferta y la demanda\n",
    "                        oferta[ind] -= mini2\n",
    "                        demanda[ind2] -= mini2\n",
    "                        # si la demana es más pequeña que la columna completa se asigna el valor máximo entonces la columna es eliminada para la próxima iteración.\n",
    "                        if(demanda[ind2] == 0):\n",
    "                            for r in range(n):\n",
    "                                recuadro[r][ind2] = INF\n",
    "                        # si la oferta es más pequeña que la fila completa se asigna valor máximo entonces la fila se elimina para la próxima iteración\n",
    "                        else:\n",
    "                            recuadro[ind] = [INF for i in range(m)]\n",
    "                        break\n",
    "                break\n",
    "    # si la el elemento máximo de la fila diff es mayor que el elemento máximo de la columna diff \n",
    "    else:\n",
    "        for ind, val in enumerate(col):\n",
    "            if(val == maxi2):\n",
    "                # encontrando el elemento mínimo en el recuadro indice donde el máximo fue encontrado en la columna de diferencias\n",
    "                mini1 = INF\n",
    "                for j in range(n):\n",
    "                    mini1 = min(mini1, recuadro[j][ind])\n",
    " \n",
    "                for ind2 in range(n):\n",
    "                    val2 = recuadro[ind2][ind]\n",
    "                    if val2 == mini1:\n",
    "                        # calculando el mínimo de la oferta y la demanda en esa fila y columna\n",
    "                        mini2 = min(oferta[ind2], demanda[ind])\n",
    "                        ans += mini2 * mini1\n",
    "                        # extrayendo el mínimo de oferta y demanda \n",
    "                        oferta[ind2] -= mini2\n",
    "                        demanda[ind] -= mini2\n",
    "                        # si la demanda es más pequeña que la columna completa se asigna un valor máximo entonces la columna se elimina del resto de iteraciones\n",
    "                        if(demanda[ind] == 0):\n",
    "                            for r in range(n):\n",
    "                                recuadro[r][ind] = INF\n",
    "                        # si la oferta es menor que la fila completa se asigna un valor máximo entonces la fila se elimina del resto de iteraciones\n",
    "                        else:\n",
    "                            recuadro[ind2] = [INF for i in range(m)]\n",
    "                        break\n",
    "                break\n",
    " \n",
    "print(\"la solución optima es \", ans)"
   ]
  }
 ],
 "metadata": {
  "kernelspec": {
   "display_name": "Python 3 (ipykernel)",
   "language": "python",
   "name": "python3"
  },
  "language_info": {
   "codemirror_mode": {
    "name": "ipython",
    "version": 3
   },
   "file_extension": ".py",
   "mimetype": "text/x-python",
   "name": "python",
   "nbconvert_exporter": "python",
   "pygments_lexer": "ipython3",
   "version": "3.10.9"
  }
 },
 "nbformat": 4,
 "nbformat_minor": 2
}
