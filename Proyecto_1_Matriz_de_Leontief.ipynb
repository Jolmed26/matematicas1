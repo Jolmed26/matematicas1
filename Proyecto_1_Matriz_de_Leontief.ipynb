{
 "cells": [
  {
   "cell_type": "markdown",
   "id": "d3bcfbc4",
   "metadata": {},
   "source": [
    "### 1. Modelo de entrada y salida de Leontief 3x3.\n"
   ]
  },
  {
   "cell_type": "code",
   "execution_count": 25,
   "id": "46810323",
   "metadata": {},
   "outputs": [
    {
     "name": "stdout",
     "output_type": "stream",
     "text": [
      "Producción total:\n",
      "Granjeros = 83.79986775402249\n",
      "Carpinteros = 74.23407538020717\n",
      "Sastres = 84.8137535816619\n"
     ]
    }
   ],
   "source": [
    "import numpy as np\n",
    "\n",
    "def leontief_model(A, demanda_final):\n",
    "    # A es la matriz del coeficiente ingreso-producción \n",
    "    # demanda_final es el vector de la demanda final\n",
    "    \n",
    "    # Revisar si A es una matriz cuadrada\n",
    "    if A.shape[0] != A.shape[1]:\n",
    "        raise ValueError(\"Input-output coefficient matrix must be square.\")\n",
    "    \n",
    "    # Revisar si A y la demanda_final tienen dimensiones compatibles\n",
    "    if A.shape[0] != len(final_demand):\n",
    "        raise ValueError(\"Dimensiones de A y demanda_final no empatan.\")\n",
    "    \n",
    "    # Calcular la producción total\n",
    "    produccion_total = np.linalg.inv(np.eye(A.shape[0]) - A).dot(demanda_final)\n",
    "    \n",
    "    # calculamos la producción sectorial\n",
    "    produccion_sectorial = A.dot(produccion_total)\n",
    "    \n",
    "    return produccion_total, produccion_sectorial\n",
    "\n",
    "# Example 3x3 Leontief Input-Output Model\n",
    "A = np.array([[0.2, 0.25, 0.1],\n",
    "              [0.15, 0.1, 0.05],\n",
    "              [0.1, 0.05, 0.15]])\n",
    "\n",
    "demanda_final = np.array([40, 50, 60])\n",
    "\n",
    "produccion_total, produccion_sectorial = leontief_model(A, demanda_final)\n",
    "\n",
    "# Display results\n",
    "print(\"Producción total:\")\n",
    "print(\"Granjeros =\", produccion_total[0])\n",
    "print(\"Carpinteros =\", produccion_total[1])\n",
    "print(\"Sastres =\", produccion_total[2])\n",
    "#print(\"Sectoral Outputs:\", sectoral_outputs)"
   ]
  }
 ],
 "metadata": {
  "kernelspec": {
   "display_name": "Python 3 (ipykernel)",
   "language": "python",
   "name": "python3"
  },
  "language_info": {
   "codemirror_mode": {
    "name": "ipython",
    "version": 3
   },
   "file_extension": ".py",
   "mimetype": "text/x-python",
   "name": "python",
   "nbconvert_exporter": "python",
   "pygments_lexer": "ipython3",
   "version": "3.10.9"
  }
 },
 "nbformat": 4,
 "nbformat_minor": 5
}
